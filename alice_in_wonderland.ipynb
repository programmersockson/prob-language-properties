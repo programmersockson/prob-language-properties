{
 "cells": [
  {
   "cell_type": "code",
   "execution_count": 396,
   "id": "8d6ba84f-e42b-49f6-bba2-fcff460c83b5",
   "metadata": {},
   "outputs": [],
   "source": [
    "import pandas as pd\n",
    "import string\n",
    "import re\n",
    "import random\n",
    "import numpy as np\n",
    "\n",
    "with open('datasets/Alisa_v_strane_chudes-world56.spcs.bio.txt') as f:\n",
    "    alice = (f.read()).lower()\n",
    "\n",
    "alice = re.sub(r'\\[\\d+\\]', ' ', alice)"
   ]
  },
  {
   "cell_type": "code",
   "execution_count": 397,
   "id": "1f6faec5-efd9-4246-aea7-ca21d3824424",
   "metadata": {},
   "outputs": [],
   "source": [
    "PUNCT_TO_REMOVE = string.punctuation\n",
    "def remove_punctuation(text):\n",
    "    return text.translate(str.maketrans('', '', PUNCT_TO_REMOVE))\n",
    "\n",
    "alice = remove_punctuation(alice)"
   ]
  },
  {
   "cell_type": "code",
   "execution_count": 398,
   "id": "e33148d0-09db-4574-a8bd-383abe477abf",
   "metadata": {},
   "outputs": [],
   "source": [
    "alice = alice.replace('\\n', ' ')"
   ]
  },
  {
   "cell_type": "code",
   "execution_count": 399,
   "id": "e61da635-702b-4362-a1ee-88196756dba9",
   "metadata": {},
   "outputs": [],
   "source": [
    "alice = re.sub(' +', ' ', alice)"
   ]
  },
  {
   "cell_type": "code",
   "execution_count": 400,
   "id": "a14fcfd6-d41c-482d-b298-b243bea2b488",
   "metadata": {},
   "outputs": [],
   "source": [
    "alice = re.sub('[^а-яА-Я ]', '', alice)"
   ]
  },
  {
   "cell_type": "code",
   "execution_count": 401,
   "id": "cc2baedf-bd21-413e-b3e1-610cc129d8a5",
   "metadata": {},
   "outputs": [],
   "source": [
    "letters = list(set(alice))"
   ]
  },
  {
   "cell_type": "code",
   "execution_count": 425,
   "id": "b3e05cc1-56de-48be-8167-43654b6d109c",
   "metadata": {},
   "outputs": [],
   "source": [
    "words = list(set(alice.split()))\n",
    "words.remove('п')\n",
    "words.remove('х')\n",
    "words.remove('м')"
   ]
  },
  {
   "cell_type": "code",
   "execution_count": 403,
   "id": "0944fd90-0518-4e90-be20-011e85d8c976",
   "metadata": {},
   "outputs": [],
   "source": [
    "def calc_probability(substr, text):\n",
    "    if len(substr) == 1:\n",
    "        return text.count(substr)/len(text)\n",
    "    else:\n",
    "        return text.count(substr)/(len(text) - len(substr) + 2)"
   ]
  },
  {
   "cell_type": "markdown",
   "id": "a2951a91-74a9-4e38-a5f5-a5c1fe1cead8",
   "metadata": {},
   "source": [
    "p(a1a2)= N(a1a2)/N(**) \n",
    "\n",
    "p(a1 => a2) = N(a1a2)/N(a1*)\n",
    "\n",
    "N(a1*)=p(a1)*n"
   ]
  },
  {
   "cell_type": "markdown",
   "id": "9403d0f5-3ce1-41c2-9d28-1067c8be8742",
   "metadata": {},
   "source": [
    "# probs letters"
   ]
  },
  {
   "cell_type": "code",
   "execution_count": 360,
   "id": "e0bbde91-2b08-4d2d-b7c5-6c3e4b761c5b",
   "metadata": {},
   "outputs": [],
   "source": [
    "M1 = dict.fromkeys(letters)  # prediction by 1 preceding letter\n",
    "probs = []\n",
    "for j in letters:\n",
    "    js = alice.count(j)\n",
    "    for i in letters:\n",
    "        pred_substr = j + i\n",
    "        probs.append(alice.count(pred_substr)/js)\n",
    "    M1[j] = probs\n",
    "    probs = []"
   ]
  },
  {
   "cell_type": "code",
   "execution_count": 361,
   "id": "2ebadb05-1e4b-45d0-95d7-651efdf1a513",
   "metadata": {},
   "outputs": [],
   "source": [
    "# for i in letters:\n",
    "#     print(i, np.array(M1[i]).sum())"
   ]
  },
  {
   "cell_type": "code",
   "execution_count": 362,
   "id": "9442c8c6-08d9-4ce6-9ed5-8551fea725d5",
   "metadata": {},
   "outputs": [
    {
     "data": {
      "text/plain": [
       "'ха пикарилидые де ля салимудл чшаки вннраламеваят се трят омытьсь слони ую ле ланиега ю петогли гл па'"
      ]
     },
     "execution_count": 362,
     "metadata": {},
     "output_type": "execute_result"
    }
   ],
   "source": [
    "import random\n",
    "string = np.random.choice(letters, 1)[0]\n",
    "for i in range(100):\n",
    "    next = random.choices(letters, weights=M1[string[-1]])[0]\n",
    "    string += next\n",
    "string"
   ]
  },
  {
   "cell_type": "code",
   "execution_count": 363,
   "id": "ce019251-bcac-4cb5-b41f-b3e1eb2f0b81",
   "metadata": {},
   "outputs": [],
   "source": [
    "M2 = {}  # prediction by 2 preceding letters\n",
    "probs = []\n",
    "for j in letters:\n",
    "    for q in letters:\n",
    "        jqs = alice.count(j+q)\n",
    "        if jqs:\n",
    "            for i in letters:\n",
    "                pred_substr = j + q + i\n",
    "                probs.append(alice.count(pred_substr)/jqs)\n",
    "            M2[j+q] = probs\n",
    "            probs = []"
   ]
  },
  {
   "cell_type": "code",
   "execution_count": 365,
   "id": "1288ea5c-875e-43e3-9b19-b330df1f7044",
   "metadata": {},
   "outputs": [
    {
     "data": {
      "text/plain": [
       "'ын вни что очешийтела постак чтоболышайдую от али миса ное могиня вы покрась го наять сло и не ско так'"
      ]
     },
     "execution_count": 365,
     "metadata": {},
     "output_type": "execute_result"
    }
   ],
   "source": [
    "string = np.random.choice(letters, 1)[0] + np.random.choice(letters, 1)[0]\n",
    "for i in range(100):\n",
    "    next = random.choices(letters, weights=M2[string[-2:]])[0]\n",
    "    string += next\n",
    "string"
   ]
  },
  {
   "cell_type": "code",
   "execution_count": 366,
   "id": "5490bcd3-38cd-49d2-9789-c4948b79a9e2",
   "metadata": {},
   "outputs": [],
   "source": [
    "M3 = {}  # prediction by 3 preceding letters\n",
    "probs = []\n",
    "for j in letters:\n",
    "    for q in letters:\n",
    "        for p in letters:\n",
    "            jqps = alice.count(j+q+p)\n",
    "            if jqps:\n",
    "                for i in letters:\n",
    "                    pred_substr = j + q + p + i\n",
    "                    probs.append(alice.count(pred_substr)/jqps)\n",
    "                M2[j+q+p] = probs\n",
    "                probs = []"
   ]
  },
  {
   "cell_type": "code",
   "execution_count": 376,
   "id": "52f5998e-946f-40dc-bd89-dd5fb56cfc5b",
   "metadata": {},
   "outputs": [
    {
     "data": {
      "text/plain": [
       "'сут нравила пали предпочти жилась с этого была будь начал кольшительно этот всегда набекрассказала тоно'"
      ]
     },
     "execution_count": 376,
     "metadata": {},
     "output_type": "execute_result"
    }
   ],
   "source": [
    "string = np.random.choice(letters, 1)[0] + np.random.choice(letters, 1)[0] + np.random.choice(letters, 1)[0]\n",
    "for i in range(100):\n",
    "    next = random.choices(letters, weights=M2[string[-3:]])[0]\n",
    "    string += next\n",
    "string"
   ]
  },
  {
   "cell_type": "markdown",
   "id": "51f14e06-90ea-414b-99d5-90858d845022",
   "metadata": {},
   "source": [
    "# probs words"
   ]
  },
  {
   "cell_type": "code",
   "execution_count": 519,
   "id": "b9452f3d-2f1a-48a2-9834-5c9bc1c35fa6",
   "metadata": {},
   "outputs": [],
   "source": [
    "M_words = dict.fromkeys(words)  # prediction by 1 preceding word\n",
    "probs  = []\n",
    "for j in words:\n",
    "    js = alice.count(j)\n",
    "    for i in words:\n",
    "        pred_comb = j + ' ' + i\n",
    "        probs.append(alice.count(pred_comb)/js)\n",
    "    M_words[j] = probs\n",
    "    probs = []"
   ]
  },
  {
   "cell_type": "code",
   "execution_count": 521,
   "id": "af9cd3e6-5fde-485e-8c54-1fd114e10717",
   "metadata": {},
   "outputs": [
    {
     "data": {
      "text/plain": [
       "'склонилась на белого кролика та удивительная песня про с соблаговолить принять более девяти футов рос и однако с б захотела ответ с об у шестипенсовик я возможно нет о дело а сон с не колодца соне вновь вон разбитого с со в сад но но по о с по пол и принес с и например представь себе довольно строго с выпустить в хором по листве далеко у б про с ваш честь летних дне ко по в у или подпись как она обхватила шляпку рука к он не та на с по суда о но в стол но за всю ж'"
      ]
     },
     "execution_count": 521,
     "metadata": {},
     "output_type": "execute_result"
    }
   ],
   "source": [
    "string = np.random.choice(words, 1)[0]\n",
    "for i in range(100):\n",
    "    next = random.choices(words, weights=M_words[string.split()[-1]])[0]\n",
    "    string += ' ' + next\n",
    "string"
   ]
  },
  {
   "cell_type": "code",
   "execution_count": null,
   "id": "959ec1d0-a8ae-416b-a0a5-e74216a52f71",
   "metadata": {},
   "outputs": [],
   "source": []
  }
 ],
 "metadata": {
  "kernelspec": {
   "display_name": "Python 3 (ipykernel)",
   "language": "python",
   "name": "python3"
  },
  "language_info": {
   "codemirror_mode": {
    "name": "ipython",
    "version": 3
   },
   "file_extension": ".py",
   "mimetype": "text/x-python",
   "name": "python",
   "nbconvert_exporter": "python",
   "pygments_lexer": "ipython3",
   "version": "3.11.5"
  }
 },
 "nbformat": 4,
 "nbformat_minor": 5
}
